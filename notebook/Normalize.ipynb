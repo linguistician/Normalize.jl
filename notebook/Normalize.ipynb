{
 "cells": [
  {
   "cell_type": "markdown",
   "id": "9ee218ba",
   "metadata": {},
   "source": [
    "# Set Up"
   ]
  },
  {
   "cell_type": "code",
   "execution_count": null,
   "id": "c06e41c4",
   "metadata": {},
   "outputs": [],
   "source": [
    "using DataFrames, Normalize"
   ]
  },
  {
   "cell_type": "markdown",
   "id": "38c6bc95",
   "metadata": {},
   "source": [
    "## Load Data"
   ]
  },
  {
   "cell_type": "markdown",
   "id": "4f040de7",
   "metadata": {},
   "source": [
    "Get the directory of the desired dataset.\n",
    "- Windows\n",
    "    1. Hold the Shift key.\n",
    "    2. Right-click the file.\n",
    "    3. Click \"Copy as path\".\n",
    "- Mac\n",
    "    1. Right-click the file.\n",
    "    2. Hold the Option key.\n",
    "    3. Click \"Copy <filename\\> as Pathname\".\n",
    "- Linux\n",
    "    1. Open Terminal.\n",
    "    2. Run `readlink -f <filename>`.\n",
    "    3. Copy the resulting path. \n",
    "\n",
    "Type it between the first set of quotes.\n",
    "\n",
    "If the dataset is an Excel or OpenDocument Spreadsheet, type the sheet name between the second set of quotes."
   ]
  },
  {
   "cell_type": "code",
   "execution_count": null,
   "id": "c7ca8445",
   "metadata": {},
   "outputs": [],
   "source": [
    "df = tabular_to_dataframe(\"<dataset directory>\", \"<sheet name>\")\n",
    "describe(df)"
   ]
  },
  {
   "cell_type": "markdown",
   "id": "1941d5ac",
   "metadata": {},
   "source": [
    "Choose the variable(s) to analyze, including any group variables.\n",
    "\n",
    "Prefix the variable name(s) with a colon between the innermost brackets."
   ]
  },
  {
   "cell_type": "code",
   "execution_count": null,
   "id": "f46338a3",
   "metadata": {},
   "outputs": [],
   "source": [
    "sample = df[!, [:variable1, :variable2,]]\n",
    "describe(sample)"
   ]
  },
  {
   "cell_type": "markdown",
   "id": "572e62e8",
   "metadata": {},
   "source": [
    "## Clean Data"
   ]
  },
  {
   "cell_type": "markdown",
   "id": "3921b5e3",
   "metadata": {},
   "source": [
    "Replace `missing` with `new_value` in a variable of `sample`.\n",
    "\n",
    "This will allow skewness and kurtosis to be calculated for a variable containing `missing` values.\n",
    "\n",
    "Prefix the variable name with a colon in the parentheses."
   ]
  },
  {
   "cell_type": "code",
   "execution_count": null,
   "id": "d93f188e",
   "metadata": {},
   "outputs": [],
   "source": [
    "new_value = NaN\n",
    "replace_missing!(sample, :variable; new_value)"
   ]
  },
  {
   "cell_type": "markdown",
   "id": "7c2605e1",
   "metadata": {},
   "source": [
    "Replace blank values (i.e., \" \") with `new_value` in a variable of `sample`, and format it to decimals (floats).\n",
    "\n",
    "This will allow skewness and kurtosis to be calculated for a variable containing blank values.\n",
    "\n",
    "Prefix the variable name with a colon in the parentheses."
   ]
  },
  {
   "cell_type": "code",
   "execution_count": null,
   "id": "c98ffd72",
   "metadata": {},
   "outputs": [],
   "source": [
    "new_value = NaN\n",
    "sheetcol_to_float!(sample, :variable, blank_to=new_value)"
   ]
  },
  {
   "cell_type": "markdown",
   "id": "aaadb209",
   "metadata": {},
   "source": [
    "## Group Data"
   ]
  },
  {
   "cell_type": "markdown",
   "id": "32716f90",
   "metadata": {},
   "source": [
    "Prefix any group variables with a colon between the innermost brackets.\n",
    "\n",
    "If the below cell is run, replace `sample` in later cells with `gd`."
   ]
  },
  {
   "cell_type": "code",
   "execution_count": null,
   "id": "c49fa3aa",
   "metadata": {},
   "outputs": [],
   "source": [
    "gd = groupby(sample, [:group1,]);"
   ]
  },
  {
   "cell_type": "markdown",
   "id": "96f53f42",
   "metadata": {},
   "source": [
    "# Main"
   ]
  },
  {
   "cell_type": "markdown",
   "id": "4b8b2801",
   "metadata": {},
   "source": [
    "Display details about skewness and kurtosis of the data.\n",
    "\n",
    "If the data has only one group and two dependent variables, type `dependent=true` after the trailing comma. The skewness and kurtosis of the difference between the dependent variables will be displayed."
   ]
  },
  {
   "cell_type": "code",
   "execution_count": null,
   "id": "294b7454",
   "metadata": {},
   "outputs": [],
   "source": [
    "print_skewness_kurtosis(sample,)"
   ]
  },
  {
   "cell_type": "markdown",
   "id": "f4fe001d",
   "metadata": {},
   "source": [
    "Attempt once to normalize the data for its skewness and kurtosis ratios to be within the range of ±`normal_ratio`.\n",
    "\n",
    "If the data has only one group and two dependent variables, type `dependent=true` after the trailing comma. The difference between the dependent variables will be normalized."
   ]
  },
  {
   "cell_type": "code",
   "execution_count": null,
   "id": "725f80db",
   "metadata": {},
   "outputs": [],
   "source": [
    "normal_ratio = 2\n",
    "results = normalize(sample; normal_ratio,)\n",
    "print_findings(results)"
   ]
  },
  {
   "cell_type": "markdown",
   "id": "9715e9e0",
   "metadata": {},
   "source": [
    "Replace `NaN` with `missing` in the normal data, and export to a CSV file.\n",
    "\n",
    "Type a new filename before `.csv` in the quotes. If a directory is not specified in the filename, then the file will be in the same location as this notebook.\n",
    "\n",
    "If the data has only one group and two dependent variables, type `dependent=true` after the trailing comma. A column of zeros will also be created in the CSV file for dependent testing."
   ]
  },
  {
   "cell_type": "code",
   "execution_count": null,
   "id": "cc5a3bc0",
   "metadata": {},
   "outputs": [],
   "source": [
    "normal_to_csv(\"newfilename.csv\", results,)"
   ]
  },
  {
   "cell_type": "markdown",
   "id": "9b103b5d",
   "metadata": {},
   "source": [
    "## Transformations\n",
    "\n",
    "_min_ – minimum value in the data <br> \n",
    "_max_ – maximum value in the data\n",
    "\n",
    "### Positive Skew\n",
    "\n",
    "square root: $\\sqrt{x}$\n",
    "\n",
    "\n",
    "add and square root: $\\sqrt{x + 1 - min}$\n",
    "\n",
    "\n",
    "invert: $\\frac{1}{x}$\n",
    "\n",
    "\n",
    "add and invert: $\\frac{1}{x + 1 - min}$\n",
    "\n",
    "\n",
    "square and invert: $\\frac{1}{x^2}$\n",
    "\n",
    "\n",
    "add, square, and invert: $\\frac{1}{x^2 + 1 - min^2}$\n",
    "\n",
    "\n",
    "square root and invert: $\\frac{1}{\\sqrt{x}}$\n",
    "\n",
    "\n",
    "add, square root, and invert: $\\frac{1}{\\sqrt{x + 1 - min}}$\n",
    "\n",
    "\n",
    "square root, add, and invert: $\\frac{1}{\\sqrt{x} + 1 - \\sqrt{min}}$\n",
    "\n",
    "\n",
    "log base 10: $\\log_{10}(x)$\n",
    "\n",
    "\n",
    "add and log base 10: $\\log_{10}(x + 1 - min)$\n",
    "\n",
    "\n",
    "natural log: $\\ln(x)$\n",
    "\n",
    "\n",
    "add and natural log: $\\ln(x + 1 - min)$\n",
    "\n",
    "### Negative Skew\n",
    "\n",
    "square: $x^2$\n",
    "\n",
    "cube: $x^3$\n",
    "\n",
    "antilog: $10^x$\n",
    "\n",
    "reflect and invert: $\\frac{1}{max + 1 - x}$\n",
    "\n",
    "reflect and square root: $\\sqrt{max + 1 - x}$\n",
    "\n",
    "reflect and log base 10: $\\log_{10}(max + 1 - x)$\n",
    "\n",
    "### Stretch Skew\n",
    "\n",
    "logit: $\\log_{10}|\\frac{x}{1 - x}|$\n",
    "\n",
    "add and logit: $\\log_{10}|\\frac{x + 0.25}{1 - (x + 0.25)}|$"
   ]
  }
 ],
 "metadata": {
  "@webio": {
   "lastCommId": null,
   "lastKernelId": null
  },
  "kernelspec": {
   "display_name": "Julia 1.6.0",
   "language": "julia",
   "name": "julia-1.6"
  },
  "language_info": {
   "file_extension": ".jl",
   "mimetype": "application/julia",
   "name": "julia",
   "version": "1.6.0"
  }
 },
 "nbformat": 4,
 "nbformat_minor": 5
}
