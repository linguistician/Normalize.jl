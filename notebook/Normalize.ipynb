{
 "cells": [
  {
   "cell_type": "markdown",
   "id": "occupied-florida",
   "metadata": {},
   "source": [
    "# Set Up"
   ]
  },
  {
   "cell_type": "code",
   "execution_count": null,
   "id": "respiratory-legislation",
   "metadata": {},
   "outputs": [],
   "source": [
    "using CSV, DataFrames, SciPy, ExcelFiles\n",
    "import Normalize as nm"
   ]
  },
  {
   "cell_type": "markdown",
   "id": "biblical-reputation",
   "metadata": {},
   "source": [
    "# Main"
   ]
  },
  {
   "cell_type": "markdown",
   "id": "matched-turkish",
   "metadata": {},
   "source": [
    "Get the directory of the desired dataset.\n",
    "- Windows\n",
    "    1. Right-click the file.\n",
    "    2. Click Properties.\n",
    "    3. Copy the path in Location.\n",
    "- Mac\n",
    "    1. Right-click the file.\n",
    "    2. Click Get Info.\n",
    "    3. Copy the path in Where.\n",
    "\n",
    "Type it between the first set of quotes. If the dataset is an Excel file, type the sheet name between the second set of quotes. "
   ]
  },
  {
   "cell_type": "code",
   "execution_count": null,
   "id": "centered-carpet",
   "metadata": {},
   "outputs": [],
   "source": [
    "df = nm.loadSpreadsheet(\"<dataset directory>\", \"<sheet name>\")\n",
    "describe(df)"
   ]
  },
  {
   "cell_type": "markdown",
   "id": "liable-gross",
   "metadata": {},
   "source": [
    "Format columns containing strings to decimals (floats)."
   ]
  },
  {
   "cell_type": "code",
   "execution_count": null,
   "id": "worst-melissa",
   "metadata": {},
   "outputs": [],
   "source": [
    "nm.stringToFloat!(df);"
   ]
  },
  {
   "cell_type": "markdown",
   "id": "comic-mercy",
   "metadata": {},
   "source": [
    "Display details about skewness and kurtosis of the data."
   ]
  },
  {
   "cell_type": "code",
   "execution_count": null,
   "id": "adopted-feeding",
   "metadata": {},
   "outputs": [],
   "source": [
    "nm.printSkewnessKurtosis(df)"
   ]
  },
  {
   "cell_type": "markdown",
   "id": "ultimate-recognition",
   "metadata": {},
   "source": [
    "Attempt to normalize the data once."
   ]
  },
  {
   "cell_type": "code",
   "execution_count": null,
   "id": "cellular-filling",
   "metadata": {},
   "outputs": [],
   "source": [
    "results = nm.normalize(df)\n",
    "nm.printFindings(results)"
   ]
  }
 ],
 "metadata": {
  "@webio": {
   "lastCommId": null,
   "lastKernelId": null
  },
  "kernelspec": {
   "display_name": "Julia 1.6.0",
   "language": "julia",
   "name": "julia-1.6"
  },
  "language_info": {
   "file_extension": ".jl",
   "mimetype": "application/julia",
   "name": "julia",
   "version": "1.6.0"
  }
 },
 "nbformat": 4,
 "nbformat_minor": 5
}
