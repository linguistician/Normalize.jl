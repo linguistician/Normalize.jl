{
 "cells": [
  {
   "cell_type": "markdown",
   "id": "beb15821",
   "metadata": {},
   "source": [
    "# Set Up"
   ]
  },
  {
   "cell_type": "code",
   "execution_count": null,
   "id": "e14bf6ae",
   "metadata": {},
   "outputs": [],
   "source": [
    "using DataFrames, Normalize"
   ]
  },
  {
   "cell_type": "markdown",
   "id": "46032ffe",
   "metadata": {},
   "source": [
    "Get the directory of the desired dataset.\n",
    "- Windows\n",
    "    1. Right-click the file.\n",
    "    2. Click Properties.\n",
    "    3. Copy the path in Location.\n",
    "- Mac\n",
    "    1. Right-click the file.\n",
    "    2. Click Get Info.\n",
    "    3. Copy the path in Where.\n",
    "- Linux\n",
    "    1. Open Terminal.\n",
    "    2. Run `readlink -f <filename>`.\n",
    "    3. Copy the resulting path. \n",
    "\n",
    "Type it between the first set of quotes.\n",
    "\n",
    "If the dataset is an Excel or OpenDocument Spreadsheet, type the sheet name between the second set of quotes."
   ]
  },
  {
   "cell_type": "code",
   "execution_count": null,
   "id": "25ecf3b4",
   "metadata": {},
   "outputs": [],
   "source": [
    "df = tabular_to_dataframe(\"<dataset directory>\", \"<sheet name>\")\n",
    "describe(df)"
   ]
  },
  {
   "cell_type": "markdown",
   "id": "bd5ee612",
   "metadata": {},
   "source": [
    "Choose the variable(s) to analyze, including any group variables.\n",
    "\n",
    "Prefix each desired variable with a colon between the innermost brackets."
   ]
  },
  {
   "cell_type": "code",
   "execution_count": null,
   "id": "761c3a0e",
   "metadata": {},
   "outputs": [],
   "source": [
    "sample = df[[:variable1, :variable2,]]\n",
    "describe(sample)"
   ]
  },
  {
   "cell_type": "markdown",
   "id": "43782cdc",
   "metadata": {},
   "source": [
    "Replace blank values (i.e., \" \") with `new_value` in the data, and format the columns to decimals (floats).\n",
    "\n",
    "This will handle data from a CSV, an Excel, or OpenDocument Spreadsheet file, and allow skewness and kurtosis to be calculated for data containing blank values."
   ]
  },
  {
   "cell_type": "code",
   "execution_count": null,
   "id": "424cbaa8",
   "metadata": {},
   "outputs": [],
   "source": [
    "new_value = NaN\n",
    "sheetcols_to_float!(sample, blank_to=new_value);"
   ]
  },
  {
   "cell_type": "markdown",
   "id": "5b85def7",
   "metadata": {},
   "source": [
    "Replace `missing` with `new_value` in the data.\n",
    "\n",
    "This will allow skewness and kurtosis to be calculated for data containing `missing` values."
   ]
  },
  {
   "cell_type": "code",
   "execution_count": null,
   "id": "72bd65fd",
   "metadata": {},
   "outputs": [],
   "source": [
    "new_value = NaN\n",
    "replace_missing!(sample, new_value);"
   ]
  },
  {
   "cell_type": "markdown",
   "id": "bf6a74d9",
   "metadata": {},
   "source": [
    "Prefix any group variables with a colon between the innermost brackets.\n",
    "\n",
    "If the below cell is run, replace `sample` in later cells with `gd`."
   ]
  },
  {
   "cell_type": "code",
   "execution_count": null,
   "id": "c8352af1",
   "metadata": {},
   "outputs": [],
   "source": [
    "gd = groupby(sample, [:group1,]);"
   ]
  },
  {
   "cell_type": "markdown",
   "id": "0c07db0e",
   "metadata": {},
   "source": [
    "# Main"
   ]
  },
  {
   "cell_type": "markdown",
   "id": "197ad0e9",
   "metadata": {},
   "source": [
    "Display details about skewness and kurtosis of the data.\n",
    "\n",
    "If the data has only one group and two dependent variables, type `dependent=true` after the trailing comma. The skewness and kurtosis of the difference between the dependent variables will be displayed."
   ]
  },
  {
   "cell_type": "code",
   "execution_count": null,
   "id": "55823d83",
   "metadata": {},
   "outputs": [],
   "source": [
    "print_skewness_kurtosis(sample,)"
   ]
  },
  {
   "cell_type": "markdown",
   "id": "844e0d26",
   "metadata": {},
   "source": [
    "Attempt once to normalize the data for its skewness and kurtosis ratios to be within the range of ±`normal_ratio`.\n",
    "\n",
    "If the data has only one group and two dependent variables, type `dependent=true` after the trailing comma. The difference between the dependent variables will be normalized."
   ]
  },
  {
   "cell_type": "code",
   "execution_count": null,
   "id": "c809c7e8",
   "metadata": {},
   "outputs": [],
   "source": [
    "results = normalize(sample, normal_ratio=2,)\n",
    "print_findings(results)"
   ]
  },
  {
   "cell_type": "markdown",
   "id": "625e0582",
   "metadata": {},
   "source": [
    "Replace `NaN` with `missing` in the normal data, and export to a CSV file.\n",
    "\n",
    "Type a new filename before `.csv` in the quotes. If a directory is not specified in the filename, then the file will be in the same location as this notebook.\n",
    "\n",
    "If the data has only one group and two dependent variables, type `dependent=true` after the trailing comma. A column of zeros will also be created in the CSV file for dependent testing."
   ]
  },
  {
   "cell_type": "code",
   "execution_count": null,
   "id": "4a4f815a",
   "metadata": {},
   "outputs": [],
   "source": [
    "normal_to_csv(\"newfilename.csv\", results,)"
   ]
  },
  {
   "cell_type": "markdown",
   "id": "8b975bf0",
   "metadata": {},
   "source": [
    "## Transformations\n",
    "\n",
    "_min_ – minimum value in the data <br> \n",
    "_max_ – maximum value in the data\n",
    "\n",
    "### Positive Skew\n",
    "\n",
    "square root: $\\sqrt{x}$\n",
    "\n",
    "\n",
    "add and square root: $\\sqrt{x + 1 - min}$\n",
    "\n",
    "\n",
    "invert: $\\frac{1}{x}$\n",
    "\n",
    "\n",
    "add and invert: $\\frac{1}{x + 1 - min}$\n",
    "\n",
    "\n",
    "square and invert: $\\frac{1}{x^2}$\n",
    "\n",
    "\n",
    "add, square, and invert: $\\frac{1}{x^2 + 1 - min^2}$\n",
    "\n",
    "\n",
    "square root and invert: $\\frac{1}{\\sqrt{x}}$\n",
    "\n",
    "\n",
    "add, square root, and invert: $\\frac{1}{\\sqrt{x + 1 - min}}$\n",
    "\n",
    "\n",
    "square root, add, and invert: $\\frac{1}{\\sqrt{x} + 1 - \\sqrt{min}}$\n",
    "\n",
    "\n",
    "log base 10: $\\log_{10}(x)$\n",
    "\n",
    "\n",
    "add and log base 10: $\\log_{10}(x + 1 - min)$\n",
    "\n",
    "\n",
    "natural log: $\\ln(x)$\n",
    "\n",
    "\n",
    "add and natural log: $\\ln(x + 1 - min)$\n",
    "\n",
    "### Negative Skew\n",
    "\n",
    "square: $x^2$\n",
    "\n",
    "cube: $x^3$\n",
    "\n",
    "antilog: $10^x$\n",
    "\n",
    "reflect and invert: $\\frac{1}{max + 1 - x}$\n",
    "\n",
    "reflect and square root: $\\sqrt{max + 1 - x}$\n",
    "\n",
    "reflect and log base 10: $\\log_{10}(max + 1 - x)$\n",
    "\n",
    "### Stretch Skew\n",
    "\n",
    "logit: $\\log_{10}|\\frac{x}{1 - x}|$\n",
    "\n",
    "add and logit: $\\log_{10}|\\frac{x + 0.25}{1 - (x + 0.25)}|$"
   ]
  }
 ],
 "metadata": {
  "@webio": {
   "lastCommId": null,
   "lastKernelId": null
  },
  "kernelspec": {
   "display_name": "Julia 1.6.0",
   "language": "julia",
   "name": "julia-1.6"
  },
  "language_info": {
   "file_extension": ".jl",
   "mimetype": "application/julia",
   "name": "julia",
   "version": "1.6.0"
  }
 },
 "nbformat": 4,
 "nbformat_minor": 5
}
