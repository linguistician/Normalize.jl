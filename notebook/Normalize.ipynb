{
 "cells": [
  {
   "cell_type": "markdown",
   "id": "occupied-florida",
   "metadata": {},
   "source": [
    "# Set Up"
   ]
  },
  {
   "cell_type": "code",
   "execution_count": null,
   "id": "respiratory-legislation",
   "metadata": {},
   "outputs": [],
   "source": [
    "using DataFrames, Normalize"
   ]
  },
  {
   "cell_type": "markdown",
   "id": "biblical-reputation",
   "metadata": {},
   "source": [
    "# Main"
   ]
  },
  {
   "cell_type": "markdown",
   "id": "matched-turkish",
   "metadata": {},
   "source": [
    "Get the directory of the desired dataset.\n",
    "- Windows\n",
    "    1. Right-click the file.\n",
    "    2. Click Properties.\n",
    "    3. Copy the path in Location.\n",
    "- Mac\n",
    "    1. Right-click the file.\n",
    "    2. Click Get Info.\n",
    "    3. Copy the path in Where.\n",
    "\n",
    "Type it between the first set of quotes. If the dataset is an Excel or OpenDocument Spreadsheet, type the sheet name between the second set of quotes."
   ]
  },
  {
   "cell_type": "code",
   "execution_count": null,
   "id": "centered-carpet",
   "metadata": {},
   "outputs": [],
   "source": [
    "df = tabular_to_dataframe(\"<dataset directory>\", \"<sheet name>\")\n",
    "describe(df)"
   ]
  },
  {
   "cell_type": "markdown",
   "id": "liable-gross",
   "metadata": {},
   "source": [
    "Format columns containing strings to decimals (floats)."
   ]
  },
  {
   "cell_type": "code",
   "execution_count": null,
   "id": "worst-melissa",
   "metadata": {},
   "outputs": [],
   "source": [
    "string_to_float!(df);"
   ]
  },
  {
   "cell_type": "markdown",
   "id": "comic-mercy",
   "metadata": {},
   "source": [
    "Display details about skewness and kurtosis of the data."
   ]
  },
  {
   "cell_type": "code",
   "execution_count": null,
   "id": "adopted-feeding",
   "metadata": {},
   "outputs": [],
   "source": [
    "print_skewness_kurtosis(df)"
   ]
  },
  {
   "cell_type": "markdown",
   "id": "ultimate-recognition",
   "metadata": {},
   "source": [
    "Attempt once to normalize the data."
   ]
  },
  {
   "cell_type": "code",
   "execution_count": null,
   "id": "cellular-filling",
   "metadata": {},
   "outputs": [],
   "source": [
    "results = normalize(df)\n",
    "print_findings(results)"
   ]
  },
  {
   "cell_type": "markdown",
   "id": "respective-collins",
   "metadata": {},
   "source": [
    "## Transformations\n",
    "\n",
    "_min_ – minimum value in the data <br> \n",
    "_max_ – maximum value in the data\n",
    "\n",
    "### Positive Skew\n",
    "\n",
    "square root: $\\sqrt{x}$\n",
    "\n",
    "\n",
    "add and square root: $\\sqrt{x + 1 - min}$\n",
    "\n",
    "\n",
    "invert: $\\frac{1}{x}$\n",
    "\n",
    "\n",
    "add and invert: $\\frac{1}{x + 1 - min}$\n",
    "\n",
    "\n",
    "square and invert: $\\frac{1}{x^2}$\n",
    "\n",
    "\n",
    "add, square, and invert: $\\frac{1}{x^2 + 1 - min^2}$\n",
    "\n",
    "\n",
    "square root and invert: $\\frac{1}{\\sqrt{x}}$\n",
    "\n",
    "\n",
    "add, square root, and invert: $\\frac{1}{\\sqrt{x + 1 - min}}$\n",
    "\n",
    "\n",
    "square root, add, and invert: $\\frac{1}{\\sqrt{x} + 1 - \\sqrt{min}}$\n",
    "\n",
    "\n",
    "log base 10: $\\log_{10}(x)$\n",
    "\n",
    "\n",
    "add and log base 10: $\\log_{10}(x + 1 - min)$\n",
    "\n",
    "\n",
    "natural log: $\\ln(x)$\n",
    "\n",
    "\n",
    "add and natural log: $\\ln(x + 1 - min)$\n",
    "\n",
    "### Negative Skew\n",
    "\n",
    "square: $x^2$\n",
    "\n",
    "cube: $x^3$\n",
    "\n",
    "antilog: $10^x$\n",
    "\n",
    "reflect and invert: $\\frac{1}{max + 1 - x}$\n",
    "\n",
    "reflect and square root: $\\sqrt{max + 1 - x}$\n",
    "\n",
    "reflect and log base 10: $\\log_{10}(max + 1 - x)$\n",
    "\n",
    "### Stretch Skew\n",
    "\n",
    "logit: $\\log_{10}|\\frac{x}{1 - x}|$\n",
    "\n",
    "add and logit: $\\log_{10}|\\frac{x + 0.25}{1 - (x + 0.25)}|$"
   ]
  }
 ],
 "metadata": {
  "@webio": {
   "lastCommId": null,
   "lastKernelId": null
  },
  "kernelspec": {
   "display_name": "Julia 1.6.0",
   "language": "julia",
   "name": "julia-1.6"
  },
  "language_info": {
   "file_extension": ".jl",
   "mimetype": "application/julia",
   "name": "julia",
   "version": "1.6.0"
  }
 },
 "nbformat": 4,
 "nbformat_minor": 5
}
